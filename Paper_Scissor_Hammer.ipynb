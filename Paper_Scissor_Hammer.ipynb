{
 "cells": [
  {
   "cell_type": "code",
   "execution_count": 1,
   "metadata": {},
   "outputs": [
    {
     "name": "stdout",
     "output_type": "stream",
     "text": [
      "User2 wins!\n"
     ]
    }
   ],
   "source": [
    "def RPSwinner():\n",
    "    '''user1 and user2 are either 'rock', 'paper', or 'scissors'\n",
    "       the function returns:\n",
    "       0 if it is a tie\n",
    "       1 if user1 wins\n",
    "       2 if user2 wins\n",
    "    '''\n",
    "    user1 = input(\"Choose either 'rock', 'paper', or 'scissors': \")\n",
    "    user2 = input(\"Choose either 'rock', 'paper', or 'scissors': \")\n",
    "\n",
    "    if user1 == user2:\n",
    "        return 0  # It's a tie\n",
    "    elif (user1 == 'rock' and user2 == 'scissors') or (user1 == 'scissors' and user2 == 'paper') or (user1 == 'paper' and user2 == 'rock'):\n",
    "        return 1  # User1 wins\n",
    "    else:\n",
    "        return 2  # User2 wins\n",
    "\n",
    "resultgame = RPSwinner()\n",
    "\n",
    "if resultgame == 0:\n",
    "    print(\"It's a tie!\")\n",
    "elif resultgame == 1:\n",
    "    print(\"User1 wins!\")\n",
    "else:\n",
    "    print(\"User2 wins!\")\n"
   ]
  },
  {
   "cell_type": "code",
   "execution_count": 2,
   "metadata": {},
   "outputs": [
    {
     "data": {
      "text/plain": [
       "2"
      ]
     },
     "execution_count": 2,
     "metadata": {},
     "output_type": "execute_result"
    }
   ],
   "source": [
    "RPSwinner()"
   ]
  },
  {
   "cell_type": "code",
   "execution_count": 10,
   "metadata": {},
   "outputs": [],
   "source": [
    "def RPSwinner2():\n",
    "\n",
    "    player1 = input(\"Choose between 'paper', 'rock', 'scissor': \" )\n",
    "    player2 = input(\"Choose between 'paper', 'rock', 'scissor': \")\n",
    "\n",
    "    if player1 == player2:\n",
    "        return \"It's a ties!\"\n",
    "    elif ( player1 == \"rock\" and player2 == \"scissor\") or (player1 == \"paper\" and player2 == \"rock\"):\n",
    "        return \"Player 1 wins!\"\n",
    "    else:\n",
    "        return \"Player 2 wins!\"\n"
   ]
  },
  {
   "cell_type": "code",
   "execution_count": 9,
   "metadata": {},
   "outputs": [
    {
     "data": {
      "text/plain": [
       "'Player 1 wins!'"
      ]
     },
     "execution_count": 9,
     "metadata": {},
     "output_type": "execute_result"
    }
   ],
   "source": [
    "RPSwinner2()"
   ]
  },
  {
   "cell_type": "code",
   "execution_count": 6,
   "metadata": {},
   "outputs": [
    {
     "data": {
      "text/plain": [
       "'Player 2 wins!'"
      ]
     },
     "execution_count": 6,
     "metadata": {},
     "output_type": "execute_result"
    }
   ],
   "source": [
    "RPSwinner2()"
   ]
  },
  {
   "cell_type": "code",
   "execution_count": 11,
   "metadata": {},
   "outputs": [
    {
     "data": {
      "text/plain": [
       "[[2, [3, [3, 4, 5], [6, 6, 7, 8]]]]"
      ]
     },
     "execution_count": 11,
     "metadata": {},
     "output_type": "execute_result"
    }
   ],
   "source": [
    "[[2,[3,[3,4,5],[6,6,7,8]]]]"
   ]
  }
 ],
 "metadata": {
  "kernelspec": {
   "display_name": "base",
   "language": "python",
   "name": "python3"
  },
  "language_info": {
   "codemirror_mode": {
    "name": "ipython",
    "version": 3
   },
   "file_extension": ".py",
   "mimetype": "text/x-python",
   "name": "python",
   "nbconvert_exporter": "python",
   "pygments_lexer": "ipython3",
   "version": "3.11.5"
  }
 },
 "nbformat": 4,
 "nbformat_minor": 2
}
